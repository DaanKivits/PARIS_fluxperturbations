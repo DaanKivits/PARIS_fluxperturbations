{
 "cells": [
  {
   "cell_type": "code",
   "execution_count": 1,
   "metadata": {},
   "outputs": [],
   "source": [
    "# Import necessary modules\n",
    "import pandas as pd\n",
    "import numpy as np\n",
    "import glob\n",
    "from datetime import datetime, timedelta\n",
    "import pandas as pd\n",
    "import xarray as xr\n",
    "import os \n"
   ]
  },
  {
   "cell_type": "code",
   "execution_count": 2,
   "metadata": {},
   "outputs": [],
   "source": [
    "# Select station\n",
    "station = 'HTM'\n",
    "\n",
    "# Define variable list to loop over later\n",
    "fluxfilelist = ['nep', 'fire', 'ocean', 'anthropogenic']\n",
    "fluxnamelist = ['nep', 'fire', 'ocean', 'combustion']\n",
    "fluxdir = '/projects/0/ctdas/awoude/NRT/ICOS_OUTPUT/'\n",
    "\n",
    "# Simulation length\n",
    "sim_length = 240"
   ]
  },
  {
   "cell_type": "code",
   "execution_count": 3,
   "metadata": {},
   "outputs": [],
   "source": [
    "# Define footprint file list\n",
    "filepath = '/gpfs/scratch1/shared/dkivits/STILT/footprints/'\n",
    "outpath = '/gpfs/scratch1/shared/awoude/STILT/footprints_multiplied/'\n",
    "\n",
    "# Create directory if it does not exist\n",
    "if not os.path.exists(outpath):\n",
    "    os.makedirs(outpath)"
   ]
  },
  {
   "cell_type": "code",
   "execution_count": 5,
   "metadata": {},
   "outputs": [],
   "source": [
    "csv_files = sorted(glob.glob(filepath+'footprint_' + station + '*.csv'))\n",
    "\n",
    "timestr_start = csv_files[0][-38:-25]\n",
    "timestr_end = csv_files[-1][-38:-25]"
   ]
  },
  {
   "cell_type": "code",
   "execution_count": 6,
   "metadata": {},
   "outputs": [],
   "source": [
    "fp_range_start = datetime.strptime(timestr_start, '%Yx%mx%dx%H')- timedelta(hours=sim_length)\n",
    "fp_range_end = datetime.strptime(timestr_end, '%Yx%mx%dx%H') "
   ]
  },
  {
   "cell_type": "code",
   "execution_count": 7,
   "metadata": {},
   "outputs": [],
   "source": [
    "# Extract all unique months between start and end time\n",
    "mons = pd.date_range(fp_range_start, fp_range_end, freq='D').strftime(\"%Y%m\").unique().tolist()"
   ]
  },
  {
   "cell_type": "code",
   "execution_count": 8,
   "metadata": {},
   "outputs": [],
   "source": [
    "# Loop over all CTE-HR flux variables\n",
    "fluxstring = []\n",
    "for var in fluxfilelist:\n",
    "    for mon in mons:\n",
    "        # Define which CTE-HR flux files to loop over\n",
    "        fluxstring += sorted(glob.glob(fluxdir + var + '.' + mon + '.nc'))"
   ]
  },
  {
   "cell_type": "code",
   "execution_count": 9,
   "metadata": {},
   "outputs": [],
   "source": [
    "# Open all files in fluxstring as xr_mfdataset\n",
    "ds = xr.open_mfdataset(fluxstring, combine='by_coords')\n",
    "file = csv_files[0]\n",
    "# Read footprint file\n",
    "fp_df = pd.read_csv(file, header=0)"
   ]
  },
  {
   "cell_type": "markdown",
   "metadata": {},
   "source": [
    "# Up untill here, it is very similar to what you did."
   ]
  },
  {
   "cell_type": "code",
   "execution_count": 43,
   "metadata": {},
   "outputs": [],
   "source": [
    "# First, find the time indices into the xarray dataset\n",
    "# We do this by \n",
    "# 1. getting the difference between the first time in the xr dataset and the footrpint file\n",
    "# 2. calculating this time difference to an hour\n",
    "# 3. calculating the hours backwards in the df to indices in the xr dataset\n",
    "time_diff = (fp_range_start - datetime.strptime(mons[0], '%Y%m'))\n",
    "hours_since_start_of_ds = time_diff.seconds // 3600 + time_diff.days * 24\n",
    "hours_into_file = hours_since_start_of_ds - fp_df.times.values -1"
   ]
  },
  {
   "cell_type": "code",
   "execution_count": 50,
   "metadata": {},
   "outputs": [
    {
     "data": {
      "text/plain": [
       "-1.2683007419525867e-05"
      ]
     },
     "execution_count": 50,
     "metadata": {},
     "output_type": "execute_result"
    }
   ],
   "source": [
    "\n",
    "# Select the fluxes where there is footprint influence\n",
    "# and then multiply with the footprint\n",
    "# For each of the important fluxes (bio, ocean, fire, anthropogenic)\n",
    "sum([(ds[v].values[hours_into_file,\n",
    "                  fp_df.index_y - 1,\n",
    "                  fp_df.index_x - 1] * fp_df['values']).sum()\n",
    "     for v in fluxnamelist])"
   ]
  },
  {
   "cell_type": "code",
   "execution_count": null,
   "metadata": {},
   "outputs": [],
   "source": []
  }
 ],
 "metadata": {
  "kernelspec": {
   "display_name": "cte-hr-env",
   "language": "python",
   "name": "cte-hr-env"
  },
  "language_info": {
   "codemirror_mode": {
    "name": "ipython",
    "version": 3
   },
   "file_extension": ".py",
   "mimetype": "text/x-python",
   "name": "python",
   "nbconvert_exporter": "python",
   "pygments_lexer": "ipython3",
   "version": "3.11.0"
  },
  "orig_nbformat": 4
 },
 "nbformat": 4,
 "nbformat_minor": 2
}
