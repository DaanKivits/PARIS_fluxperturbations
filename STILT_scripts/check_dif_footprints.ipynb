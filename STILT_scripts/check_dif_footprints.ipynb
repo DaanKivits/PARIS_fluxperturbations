{
 "cells": [
  {
   "cell_type": "code",
   "execution_count": 5,
   "metadata": {},
   "outputs": [],
   "source": [
    "import glob\n",
    "import os\n",
    "import pandas as pd\n",
    "import matplotlib.pyplot as plt\n",
    "import numpy as np"
   ]
  },
  {
   "cell_type": "code",
   "execution_count": 6,
   "metadata": {},
   "outputs": [
    {
     "name": "stdout",
     "output_type": "stream",
     "text": [
      "['/gpfs/work1/0/ctdas/PARIS/DATA/footprints/check_footprints/sum_footprint_HEI_2021x01x05x06x49.42Nx008.67Ex00010_orig.csv', '/gpfs/work1/0/ctdas/PARIS/DATA/footprints/check_footprints/sum_footprint_HEI_2021x01x05x00x49.42Nx008.67Ex00010_orig.csv', '/gpfs/work1/0/ctdas/PARIS/DATA/footprints/check_footprints/sum_footprint_HEI_2021x01x05x01x49.42Nx008.67Ex00010_orig.csv', '/gpfs/work1/0/ctdas/PARIS/DATA/footprints/check_footprints/sum_footprint_HEI_2021x01x05x02x49.42Nx008.67Ex00010_orig.csv', '/gpfs/work1/0/ctdas/PARIS/DATA/footprints/check_footprints/sum_footprint_HEI_2021x01x05x03x49.42Nx008.67Ex00010_orig.csv', '/gpfs/work1/0/ctdas/PARIS/DATA/footprints/check_footprints/sum_footprint_HEI_2021x01x05x04x49.42Nx008.67Ex00010_orig.csv', '/gpfs/work1/0/ctdas/PARIS/DATA/footprints/check_footprints/sum_footprint_HEI_2021x01x05x05x49.42Nx008.67Ex00010_orig.csv']\n",
      "['/gpfs/work1/0/ctdas/PARIS/DATA/footprints/check_footprints/sum_footprint_HEI_2021x01x05x02x49.42Nx008.67Ex00010.csv', '/gpfs/work1/0/ctdas/PARIS/DATA/footprints/check_footprints/sum_footprint_HEI_2021x01x05x04x49.42Nx008.67Ex00010.csv', '/gpfs/work1/0/ctdas/PARIS/DATA/footprints/check_footprints/sum_footprint_HEI_2021x01x05x06x49.42Nx008.67Ex00010.csv', '/gpfs/work1/0/ctdas/PARIS/DATA/footprints/check_footprints/sum_footprint_HEI_2021x01x05x01x49.42Nx008.67Ex00010.csv', '/gpfs/work1/0/ctdas/PARIS/DATA/footprints/check_footprints/sum_footprint_HEI_2021x01x05x03x49.42Nx008.67Ex00010.csv', '/gpfs/work1/0/ctdas/PARIS/DATA/footprints/check_footprints/sum_footprint_HEI_2021x01x05x00x49.42Nx008.67Ex00010.csv', '/gpfs/work1/0/ctdas/PARIS/DATA/footprints/check_footprints/sum_footprint_HEI_2021x01x05x05x49.42Nx008.67Ex00010.csv']\n"
     ]
    }
   ],
   "source": [
    "filedir = '/projects/0/ctdas/PARIS/DATA/footprints/wur/STILT/'\n",
    "orig_files = glob.glob(os.path.join(filedir, '*_orig.csv'))\n",
    "total_list = glob.glob(os.path.join(filedir, '*.csv'))\n",
    "sparse_files = [x for x in total_list if x not in orig_files]\n",
    "\n",
    "print(orig_files)\n",
    "print(sparse_files)\n"
   ]
  },
  {
   "cell_type": "code",
   "execution_count": 13,
   "metadata": {},
   "outputs": [],
   "source": [
    "for i in range(0,len(orig_files)):\n",
    "    orig_file = pd.read_csv(orig_files[i])\n",
    "    sparse_file = pd.read_csv(sparse_files[i])\n",
    "\n",
    "    # Make a two column plot of the original and sparse data\n",
    "    fig = plt.figure(figsize=(10,5))\n",
    "    plt.subplot(1,2,1)\n",
    "    plt.plot(orig_file['times'],orig_file['sum'],'b.')\n",
    "    plt.yticks(np.arange(0, 1.1, step=0.1))\n",
    "    plt.xlabel('Backward simulated time (hr)')\n",
    "    plt.ylabel('Influence (-)')\n",
    "    plt.title('Original Data')\n",
    "    plt.grid(which='major', axis='both')\n",
    "    plt.subplot(1,2,2)\n",
    "    plt.plot(sparse_file['times'],sparse_file['sum'],'r.')\n",
    "    plt.yticks(np.arange(0, 1.1, step=0.1))\n",
    "    plt.xlabel('Backward simulated time (hr)')\n",
    "    plt.ylabel('Influence (-)')\n",
    "    plt.title('Sparse Data')\n",
    "    plt.grid(which='major', axis='both')\n",
    "    plt.tight_layout()\n",
    "    plt.savefig('orig_sparse_data_'+str(i)+'.png', facecolor='white')\n",
    "    plt.close()\n",
    "\n",
    "    # Make a single panel difference plot\n",
    "    fig = plt.figure(figsize=(10,5))\n",
    "    plt.plot(orig_file['times'],orig_file['sum']-sparse_file['sum'],'k.')\n",
    "    plt.yticks(np.arange(-0.1, 0.11, step=0.05))\n",
    "    plt.xlabel('Backward simulated time (hr)')\n",
    "    plt.ylabel('Difference in influence (-)')\n",
    "    plt.title('Difference')\n",
    "    plt.grid(which='major', axis='both')\n",
    "    plt.tight_layout()\n",
    "    plt.savefig('orig_sparse_diff_'+str(i)+'.png', facecolor='white')\n",
    "    plt.close()"
   ]
  }
 ],
 "metadata": {
  "kernelspec": {
   "display_name": "cte-hr-env",
   "language": "python",
   "name": "cte-hr-env"
  },
  "language_info": {
   "codemirror_mode": {
    "name": "ipython",
    "version": 3
   },
   "file_extension": ".py",
   "mimetype": "text/x-python",
   "name": "python",
   "nbconvert_exporter": "python",
   "pygments_lexer": "ipython3",
   "version": "3.11.0"
  },
  "orig_nbformat": 4
 },
 "nbformat": 4,
 "nbformat_minor": 2
}
