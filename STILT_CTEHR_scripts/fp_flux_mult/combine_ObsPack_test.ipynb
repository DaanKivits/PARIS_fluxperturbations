{
 "cells": [
  {
   "cell_type": "code",
   "execution_count": 1,
   "metadata": {},
   "outputs": [
    {
     "name": "stderr",
     "output_type": "stream",
     "text": [
      "/home/dkivits/.conda/envs/cte-hr-env/lib/python3.11/site-packages/icoscp/cpauth/exceptions.py:42: FutureWarning: \n",
      "The ICOS Carbon Portal python library (>=0.1.20) requires user authentication for external users.\n",
      "Only credentials used for password sign-in at https://cpauth.icos-cp.eu/ can be used for authentication.\n",
      "Internal users (ICOS CP Jupyter Notebook services) are exempt.\n",
      "For the authentication module documentation, follow this link: https://icos-carbon-portal.github.io/pylib/modules/#authentication\n",
      "To suppress this message we refer to the documentation here: https://icos-carbon-portal.github.io/pylib/faq/#how-do-i-suppress-warnings\n",
      "  warnings.warn(warning, category=FutureWarning)\n"
     ]
    }
   ],
   "source": [
    "# Import necessary modules\n",
    "import pandas as pd\n",
    "import numpy as np\n",
    "import glob\n",
    "import netCDF4 as nc\n",
    "from datetime import datetime, timedelta\n",
    "import pandas as pd\n",
    "import xarray as xr\n",
    "import os\n",
    "import time\n",
    "from functions.fluxfile_functions import *\n",
    "from functions.background_functions import *\n",
    "from functions.obspack_identification_col import *\n",
    "from functions.obspack_identification_url import *\n",
    "import tqdm\n",
    "from multiprocessing import Pool\n",
    "from functools import partial\n",
    "import argparse"
   ]
  },
  {
   "cell_type": "code",
   "execution_count": 73,
   "metadata": {},
   "outputs": [
    {
     "name": "stdout",
     "output_type": "stream",
     "text": [
      "['2021-07-04T20:00:00.000000000' '2021-07-04T21:00:00.000000000'\n",
      " '2021-07-04T22:00:00.000000000' '2021-07-04T23:00:00.000000000'\n",
      " '2021-07-05T00:00:00.000000000' '2021-07-05T01:00:00.000000000'\n",
      " '2021-07-05T02:00:00.000000000' '2021-07-05T03:00:00.000000000'\n",
      " '2021-07-05T04:00:00.000000000' '2021-07-05T05:00:00.000000000'\n",
      " '2021-07-05T06:00:00.000000000' '2021-07-05T07:00:00.000000000'\n",
      " '2021-07-05T08:00:00.000000000' '2021-07-05T09:00:00.000000000'\n",
      " '2021-07-05T10:00:00.000000000' '2021-07-05T11:00:00.000000000'\n",
      " '2021-07-05T12:00:00.000000000' '2021-07-05T13:00:00.000000000'\n",
      " '2021-07-05T14:00:00.000000000' '2021-07-05T15:00:00.000000000']\n",
      "20\n",
      "[            nan             nan             nan             nan\n",
      "             nan             nan             nan             nan\n",
      "             nan             nan             nan             nan\n",
      "             nan             nan             nan -3.01766944e-06\n",
      " -1.60601076e-06 -2.88435923e-06 -3.28931542e-06 -2.45271445e-06]\n",
      "20\n"
     ]
    }
   ],
   "source": [
    "ds = '/projects/0/ctdas/PARIS/DATA/obspacks/BASE_SS/pseudo_co2_rgl_tower-insitu_160_allvalid-90magl_2021-07-01-00:00-2021-08-01-00:00.nc'\n",
    "\n",
    "ds = xr.open_dataset(ds)\n",
    "\n",
    "variable = 'time'\n",
    "print(ds.sel(time=slice(datetime(2021, 7, 4, 18, 0), datetime(2021,7,5,15,0)))[variable].values)\n",
    "print(len(ds.sel(time=slice(datetime(2021, 7, 4, 18, 0), datetime(2021,7,5,15,0)))[variable].values))\n",
    "\n",
    "variable = 'mixed'\n",
    "print(ds.sel(time=slice(datetime(2021, 7, 4, 18, 0), datetime(2021,7,5,15,0)))[variable].values)\n",
    "print(len(ds.sel(time=slice(datetime(2021, 7, 4, 18, 0), datetime(2021,7,5,15,0)))[variable].values))\n",
    "\n",
    "\n"
   ]
  },
  {
   "cell_type": "code",
   "execution_count": 54,
   "metadata": {},
   "outputs": [
    {
     "name": "stdout",
     "output_type": "stream",
     "text": [
      "[0.00041132 0.00041053 0.00040893 0.00041187 0.00041391 0.00041654\n",
      " 0.00041875 0.00042075 0.00042034 0.00042125 0.0004238  0.0004306\n",
      " 0.0004294  0.00042668 0.00042584 0.00043138 0.00042724 0.00042035\n",
      " 0.0004176  0.00041414 0.00041377 0.00041228]\n",
      "23\n",
      "[0.00041132 0.00041053 0.00040893 0.00041187 0.00041391 0.00041654\n",
      " 0.00041875 0.00042075 0.00042034 0.00042125 0.0004238  0.0004306\n",
      " 0.0004294  0.00042668 0.00042584 0.00043138 0.00042724 0.00042035\n",
      " 0.0004176  0.00041414 0.00041377 0.00041228]\n",
      "23\n"
     ]
    }
   ],
   "source": [
    "outpath = '/projects/0/ctdas/PARIS/DATA/obs/obspack_co2_466_GVeu_20230913/nc/co2_rgl_tower-insitu_160_allvalid-90magl.nc'\n",
    "ds = xr.open_dataset(outpath)\n",
    "\n",
    "variable = 'value'\n",
    "print(ds.sel(time=slice(datetime(2021, 7, 3, 15, 0), datetime(2021,7,4,20,0)))[variable].values)\n",
    "print(len(ds.sel(time=slice(datetime(2021, 7, 3, 15, 0), datetime(2021,7,4,20,30)))[variable].values))\n",
    "print(ds.sel(time=slice(datetime(2021, 7, 3, 15, 0), datetime(2021,7,4,20,0)))[variable].values)\n",
    "print(len(ds.sel(time=slice(datetime(2021, 7, 3, 15, 0), datetime(2021,7,4,20,30)))[variable].values))\n"
   ]
  },
  {
   "cell_type": "code",
   "execution_count": 19,
   "metadata": {},
   "outputs": [
    {
     "name": "stdout",
     "output_type": "stream",
     "text": [
      "['/projects/0/ctdas/PARIS/DATA/obspacks/BASE_SS/pseudo_co2_rgl_tower-insitu_160_allvalid-90magl_2021-07-01-00:00-2021-08-01-00:00.nc']\n",
      "<xarray.Dataset>\n",
      "Dimensions:                    (time: 579, calendar_components: 6,\n",
      "                                dim_concerns: 6)\n",
      "Coordinates:\n",
      "  * time                       (time) datetime64[ns] 2021-07-01 ... 2021-07-3...\n",
      "Dimensions without coordinates: calendar_components, dim_concerns\n",
      "Data variables: (12/31)\n",
      "    start_time                 (time) datetime64[ns] 2021-07-01 ... 2021-07-3...\n",
      "    datetime                   (time) |S20 b'2021-07-01T00:00:00.' ... b'2021...\n",
      "    time_decimal               (time) float64 2.021e+03 2.021e+03 ... 2.022e+03\n",
      "    time_components            (time, calendar_components) float32 2.021e+03 ...\n",
      "    solartime_components       (time, calendar_components) float32 2.021e+03 ...\n",
      "    value                      (time) float32 0.0004065 0.0004061 ... 0.0004173\n",
      "    ...                         ...\n",
      "    flux_ocean_exchange_prior  (time) float64 nan nan nan nan ... nan nan nan\n",
      "    flux_fire_exchange_prior   (time) float64 nan nan nan nan ... nan nan nan\n",
      "    flux_bio_exchange_prior    (time) float64 nan nan nan nan ... nan nan nan\n",
      "    background                 (time) float64 nan nan nan nan ... nan nan nan\n",
      "    mixed                      (time) float64 nan nan nan nan ... nan nan nan\n",
      "    pseudo_observation         (time) float64 nan nan nan nan ... nan nan nan\n",
      "Attributes: (12/66)\n",
      "    site_code:                                RGL\n",
      "    site_name:                                Ridge Hill\n",
      "    site_country:                             GB\n",
      "    site_latitude:                            51.9975\n",
      "    site_longitude:                           -2.5399\n",
      "    site_elevation:                           207.0\n",
      "    ...                                       ...\n",
      "    obspack_identifier_link:                  https://doi.org/10.18160/9CQ4-W69K\n",
      "    obspack_citation:                         ICOS RI, Bergamaschi, P., Colom...\n",
      "    Conventions:                              CF-1.7\n",
      "    nc.institution:                           Unidata\n",
      "    source:                                   ICOS RI\n",
      "    history:                                  2023-09-13 15:36:58.745922 Pyth...\n",
      "[]\n"
     ]
    }
   ],
   "source": [
    "outpath = '/projects/0/ctdas/PARIS/DATA/obspacks/BASE_SS/'\n",
    "stationcode = 'rgl'\n",
    "\n",
    "# Combine all partial netCDF ObsPack files and delete the intermediate files\n",
    "partial_files= sorted(glob.glob(outpath + '/pseudo_co2_' + stationcode + '_*2021*.nc'))\n",
    "print(partial_files)\n",
    "filelist = [xr.open_dataset(file) for file in partial_files]\n",
    "complete_filestr = outpath + 'pseudo_co2_' + stationcode + '_surface-insitu_25_allvalid.nc'\n",
    "if os.path.exists(complete_filestr):\n",
    "    os.remove(complete_filestr)\n",
    "\n",
    "# Merge datasets along the 'time' dimension\n",
    "#combined_dataset = xr.merge(filelist, join='outer')\n",
    "combined_dataset = xr.concat(filelist, dim='time')\n",
    "\n",
    "\n",
    "print(combined_dataset)\n",
    "print(combined_dataset['time'].where(combined_dataset['mixed'][:] == None).dropna('time').values)\n",
    "#for file in partial_files:\n",
    "#    os.remove(file)    "
   ]
  },
  {
   "cell_type": "code",
   "execution_count": 42,
   "metadata": {},
   "outputs": [
    {
     "name": "stdout",
     "output_type": "stream",
     "text": [
      "{1: [0, 1, 2, 3, 4, 5, 6, 7, 8, 9, 10, 11, 12, 13, 14, 15, 16, 17, 18, 19, 20, 21, 22, 23, 24, 25, 26, 27, 28, 29, 30, 31, 32, 33, 34, 35, 36, 37, 38, 39, 40, 41, 42, 43, 44, 45, 46, 47, 48, 49, 50, 51, 52, 53, 54, 55, 56, 57, 58, 59, 60, 61, 62, 63, 64, 65, 66, 67, 68, 69, 70, 71, 72, 73, 74, 75, 76, 77, 78, 79, 80, 81, 82, 83, 84, 85, 86, 87, 88, 89, 90, 91, 92, 93, 94, 95, 96, 97, 98, 99]}\n"
     ]
    }
   ],
   "source": [
    "from multiprocessing import Pool\n",
    "\n",
    "foo = {1: []}\n",
    "\n",
    "def f(x):\n",
    "    return x\n",
    "\n",
    "def main():\n",
    "    pool = Pool()\n",
    "    foo[1] = pool.map(f, range(100))\n",
    "    pool.close()\n",
    "    pool.join()\n",
    "    print(foo)\n",
    "\n",
    "if __name__ == '__main__':\n",
    "    main()"
   ]
  },
  {
   "cell_type": "code",
   "execution_count": 44,
   "metadata": {},
   "outputs": [
    {
     "ename": "TypeError",
     "evalue": "my_function() missing 1 required positional argument: 'arg2'",
     "output_type": "error",
     "traceback": [
      "\u001b[0;31m---------------------------------------------------------------------------\u001b[0m",
      "\u001b[0;31mRemoteTraceback\u001b[0m                           Traceback (most recent call last)",
      "\u001b[0;31mRemoteTraceback\u001b[0m: \n\"\"\"\nTraceback (most recent call last):\n  File \"/home/dkivits/.conda/envs/cte-hr-env/lib/python3.11/multiprocessing/pool.py\", line 125, in worker\n    result = (True, func(*args, **kwds))\n                    ^^^^^^^^^^^^^^^^^^^\n  File \"/home/dkivits/.conda/envs/cte-hr-env/lib/python3.11/multiprocessing/pool.py\", line 48, in mapstar\n    return list(map(*args))\n           ^^^^^^^^^^^^^^^^\nTypeError: my_function() missing 1 required positional argument: 'arg2'\n\"\"\"",
      "\nThe above exception was the direct cause of the following exception:\n",
      "\u001b[0;31mTypeError\u001b[0m                                 Traceback (most recent call last)",
      "\u001b[1;32m/projects/0/ctdas/PARIS/STILT_scripts/fp_flux_mult/combine_ObsPack_test.ipynb Cell 4\u001b[0m line \u001b[0;36m1\n\u001b[1;32m      <a href='vscode-notebook-cell://ssh-remote%2Bsnellius.surf.nl/projects/0/ctdas/PARIS/STILT_scripts/fp_flux_mult/combine_ObsPack_test.ipynb#W2sdnNjb2RlLXJlbW90ZQ%3D%3D?line=7'>8</a>\u001b[0m arg2 \u001b[39m=\u001b[39m \u001b[39m'\u001b[39m\u001b[39marg2\u001b[39m\u001b[39m'\u001b[39m\n\u001b[1;32m      <a href='vscode-notebook-cell://ssh-remote%2Bsnellius.surf.nl/projects/0/ctdas/PARIS/STILT_scripts/fp_flux_mult/combine_ObsPack_test.ipynb#W2sdnNjb2RlLXJlbW90ZQ%3D%3D?line=8'>9</a>\u001b[0m \u001b[39mwith\u001b[39;00m Pool(processes\u001b[39m=\u001b[39m\u001b[39m5\u001b[39m) \u001b[39mas\u001b[39;00m pool:\n\u001b[0;32m---> <a href='vscode-notebook-cell://ssh-remote%2Bsnellius.surf.nl/projects/0/ctdas/PARIS/STILT_scripts/fp_flux_mult/combine_ObsPack_test.ipynb#W2sdnNjb2RlLXJlbW90ZQ%3D%3D?line=9'>10</a>\u001b[0m     pool\u001b[39m.\u001b[39mmap(my_function, [(arg1,arg2),(arg1,arg2)])\n\u001b[1;32m     <a href='vscode-notebook-cell://ssh-remote%2Bsnellius.surf.nl/projects/0/ctdas/PARIS/STILT_scripts/fp_flux_mult/combine_ObsPack_test.ipynb#W2sdnNjb2RlLXJlbW90ZQ%3D%3D?line=10'>11</a>\u001b[0m     pool\u001b[39m.\u001b[39mclose()\n\u001b[1;32m     <a href='vscode-notebook-cell://ssh-remote%2Bsnellius.surf.nl/projects/0/ctdas/PARIS/STILT_scripts/fp_flux_mult/combine_ObsPack_test.ipynb#W2sdnNjb2RlLXJlbW90ZQ%3D%3D?line=11'>12</a>\u001b[0m     pool\u001b[39m.\u001b[39mjoin()\n",
      "File \u001b[0;32m~/.conda/envs/cte-hr-env/lib/python3.11/multiprocessing/pool.py:367\u001b[0m, in \u001b[0;36mPool.map\u001b[0;34m(self, func, iterable, chunksize)\u001b[0m\n\u001b[1;32m    362\u001b[0m \u001b[39mdef\u001b[39;00m \u001b[39mmap\u001b[39m(\u001b[39mself\u001b[39m, func, iterable, chunksize\u001b[39m=\u001b[39m\u001b[39mNone\u001b[39;00m):\n\u001b[1;32m    363\u001b[0m     \u001b[39m'''\u001b[39;00m\n\u001b[1;32m    364\u001b[0m \u001b[39m    Apply `func` to each element in `iterable`, collecting the results\u001b[39;00m\n\u001b[1;32m    365\u001b[0m \u001b[39m    in a list that is returned.\u001b[39;00m\n\u001b[1;32m    366\u001b[0m \u001b[39m    '''\u001b[39;00m\n\u001b[0;32m--> 367\u001b[0m     \u001b[39mreturn\u001b[39;00m \u001b[39mself\u001b[39m\u001b[39m.\u001b[39m_map_async(func, iterable, mapstar, chunksize)\u001b[39m.\u001b[39mget()\n",
      "File \u001b[0;32m~/.conda/envs/cte-hr-env/lib/python3.11/multiprocessing/pool.py:774\u001b[0m, in \u001b[0;36mApplyResult.get\u001b[0;34m(self, timeout)\u001b[0m\n\u001b[1;32m    772\u001b[0m     \u001b[39mreturn\u001b[39;00m \u001b[39mself\u001b[39m\u001b[39m.\u001b[39m_value\n\u001b[1;32m    773\u001b[0m \u001b[39melse\u001b[39;00m:\n\u001b[0;32m--> 774\u001b[0m     \u001b[39mraise\u001b[39;00m \u001b[39mself\u001b[39m\u001b[39m.\u001b[39m_value\n",
      "File \u001b[0;32m~/.conda/envs/cte-hr-env/lib/python3.11/multiprocessing/pool.py:125\u001b[0m, in \u001b[0;36mworker\u001b[0;34m()\u001b[0m\n\u001b[1;32m    123\u001b[0m job, i, func, args, kwds \u001b[39m=\u001b[39m task\n\u001b[1;32m    124\u001b[0m \u001b[39mtry\u001b[39;00m:\n\u001b[0;32m--> 125\u001b[0m     result \u001b[39m=\u001b[39m (\u001b[39mTrue\u001b[39;00m, func(\u001b[39m*\u001b[39margs, \u001b[39m*\u001b[39m\u001b[39m*\u001b[39mkwds))\n\u001b[1;32m    126\u001b[0m \u001b[39mexcept\u001b[39;00m \u001b[39mException\u001b[39;00m \u001b[39mas\u001b[39;00m e:\n\u001b[1;32m    127\u001b[0m     \u001b[39mif\u001b[39;00m wrap_exception \u001b[39mand\u001b[39;00m func \u001b[39mis\u001b[39;00m \u001b[39mnot\u001b[39;00m _helper_reraises_exception:\n",
      "File \u001b[0;32m~/.conda/envs/cte-hr-env/lib/python3.11/multiprocessing/pool.py:48\u001b[0m, in \u001b[0;36mmapstar\u001b[0;34m()\u001b[0m\n\u001b[1;32m     47\u001b[0m \u001b[39mdef\u001b[39;00m \u001b[39mmapstar\u001b[39m(args):\n\u001b[0;32m---> 48\u001b[0m     \u001b[39mreturn\u001b[39;00m \u001b[39mlist\u001b[39m(\u001b[39mmap\u001b[39m(\u001b[39m*\u001b[39margs))\n",
      "\u001b[0;31mTypeError\u001b[0m: my_function() missing 1 required positional argument: 'arg2'"
     ]
    }
   ],
   "source": [
    "from multiprocessing import Pool, current_process\n",
    "def my_function(arg1,arg2):\n",
    "    rank = f'running on process: {current_process()._identity[0]}'\n",
    "    print(rank, arg1,arg2)\n",
    "\n",
    "\n",
    "arg1 = 'arg1'\n",
    "arg2 = 'arg2'\n",
    "with Pool(processes=5) as pool:\n",
    "    pool.starmap(my_function, [(arg1,arg2),(arg1,arg2)])\n",
    "    pool.close()\n",
    "    pool.join()\n",
    "\n",
    "print(current_process().name)\n",
    "print(\"should only run once all processes are finished\")"
   ]
  },
  {
   "cell_type": "code",
   "execution_count": null,
   "metadata": {},
   "outputs": [],
   "source": []
  }
 ],
 "metadata": {
  "kernelspec": {
   "display_name": "cte-hr-env",
   "language": "python",
   "name": "cte-hr-env"
  },
  "language_info": {
   "codemirror_mode": {
    "name": "ipython",
    "version": 3
   },
   "file_extension": ".py",
   "mimetype": "text/x-python",
   "name": "python",
   "nbconvert_exporter": "python",
   "pygments_lexer": "ipython3",
   "version": "3.11.0"
  }
 },
 "nbformat": 4,
 "nbformat_minor": 2
}
